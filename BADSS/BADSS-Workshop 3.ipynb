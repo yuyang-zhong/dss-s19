{
 "cells": [
  {
   "cell_type": "markdown",
   "metadata": {},
   "source": [
    "# BADSS Workshop 3\n",
    "Presented by Data Science Society at Berkeley\n",
    "\n",
    "## Data Visualization, Modeling, & Inferences\n",
    "\n",
    "Saturday, March 16, 2019"
   ]
  },
  {
   "cell_type": "code",
   "execution_count": null,
   "metadata": {},
   "outputs": [],
   "source": [
    "import numpy as np\n",
    "import pandas as pd\n",
    "import seaborn as sns\n",
    "import matplotlib.pyplot as plt\n",
    "%matplotlib inline"
   ]
  },
  {
   "cell_type": "markdown",
   "metadata": {},
   "source": [
    "We will be looking at the same `country` dataset from the World Development Indicator. Run the cell below to load the data."
   ]
  },
  {
   "cell_type": "code",
   "execution_count": null,
   "metadata": {},
   "outputs": [],
   "source": [
    "data = pd.read_csv(\"Country.csv\")\n",
    "pd.set_option('display.max_rows', 500)\n",
    "pd.set_option('display.max_columns', 500)\n",
    "pd.set_option('display.width', 1000)\n",
    "data.head()"
   ]
  },
  {
   "cell_type": "markdown",
   "metadata": {},
   "source": [
    "## `matplotlib` Example"
   ]
  },
  {
   "cell_type": "code",
   "execution_count": null,
   "metadata": {
    "scrolled": true
   },
   "outputs": [],
   "source": [
    "x = np.arange(0, 10, 0.1)\n",
    "\n",
    "sns.distplot(np.sin(x))\n",
    "sns.distplot(np.cos(x))\n",
    "plt.xlabel('x')\n",
    "plt.ylabel('y')\n",
    "plt.title('Sinusoids')\n",
    "plt.legend(('sin(x)', 'cos(x)'));"
   ]
  },
  {
   "cell_type": "markdown",
   "metadata": {},
   "source": [
    "## Continuous Data"
   ]
  },
  {
   "cell_type": "markdown",
   "metadata": {},
   "source": [
    "#### Histogram 1: Latest Industrial Data"
   ]
  },
  {
   "cell_type": "code",
   "execution_count": null,
   "metadata": {},
   "outputs": [],
   "source": [
    "latest_indust = data.dropna(axis=0, subset= [\"LatestIndustrialData\"])\n",
    "sns.distplot(latest_indust['LatestIndustrialData']);"
   ]
  },
  {
   "cell_type": "markdown",
   "metadata": {},
   "source": [
    "#### Histogram 1: Latest Industrial Data (Rug plot)"
   ]
  },
  {
   "cell_type": "code",
   "execution_count": null,
   "metadata": {},
   "outputs": [],
   "source": [
    "sns.distplot(latest_indust['LatestIndustrialData'], kde = True, rug = True);"
   ]
  },
  {
   "cell_type": "markdown",
   "metadata": {},
   "source": [
    "#### Boxplot"
   ]
  },
  {
   "cell_type": "code",
   "execution_count": null,
   "metadata": {},
   "outputs": [],
   "source": [
    "d = latest_indust.dropna(axis=0, subset=[\"LatestWaterWithdrawalData\"])\n",
    "sns.boxplot(x=\"LatestWaterWithdrawalData\", data = d);"
   ]
  },
  {
   "cell_type": "code",
   "execution_count": null,
   "metadata": {},
   "outputs": [],
   "source": [
    "lower, upper = np.percentile(d[\"LatestWaterWithdrawalData\"], [25, 75])\n",
    "iqr = upper - lower\n",
    "iqr"
   ]
  },
  {
   "cell_type": "code",
   "execution_count": null,
   "metadata": {},
   "outputs": [],
   "source": [
    "upper_cutoff = upper + 1.5 * iqr\n",
    "lower_cutoff = lower - 1.5 * iqr\n",
    "upper_cutoff, lower_cutoff"
   ]
  },
  {
   "cell_type": "markdown",
   "metadata": {},
   "source": [
    "#### Scatter Plot (with regression line)"
   ]
  },
  {
   "cell_type": "code",
   "execution_count": null,
   "metadata": {},
   "outputs": [],
   "source": [
    "scatter_plot = sns.lmplot(x=\"LatestIndustrialData\", y=\"LatestTradeData\", data=data)\n",
    "plt.ylim(2001, 2016);"
   ]
  },
  {
   "cell_type": "markdown",
   "metadata": {},
   "source": [
    "#### Scatter Plot (without regression line)"
   ]
  },
  {
   "cell_type": "code",
   "execution_count": null,
   "metadata": {},
   "outputs": [],
   "source": [
    "s_plot = sns.lmplot(x=\"LatestIndustrialData\", y=\"LatestTradeData\", data=data, fit_reg = False)\n",
    "plt.ylim(2001, 2016);"
   ]
  },
  {
   "cell_type": "markdown",
   "metadata": {},
   "source": [
    "#### Scatter Plot with a third variable (hue)"
   ]
  },
  {
   "cell_type": "code",
   "execution_count": null,
   "metadata": {},
   "outputs": [],
   "source": [
    "s_plot = sns.lmplot(x=\"LatestIndustrialData\", y=\"LatestTradeData\", data=data, hue= \"IncomeGroup\", fit_reg = False)\n",
    "plt.ylim(2001, 2016);"
   ]
  },
  {
   "cell_type": "markdown",
   "metadata": {},
   "source": [
    "### Exercise 1: Continuous Plot"
   ]
  },
  {
   "cell_type": "markdown",
   "metadata": {},
   "source": [
    "Plot an overlay histogram showing the distribution of the `LastestIndustrialData` and `LatestWaterWithdrawalData` between 1997 and 2014. Your final plot should look like this:\n",
    "\n",
    "<img src=\"plot1.png\" />"
   ]
  },
  {
   "cell_type": "code",
   "execution_count": null,
   "metadata": {},
   "outputs": [],
   "source": [
    "plt.figure(figsize=(8,5))\n",
    "...\n",
    "...\n",
    "\n",
    "# Remember to label your axes and give your plot a title.\n",
    "...\n",
    "...\n",
    "...\n",
    "\n",
    "plt.legend(...)\n",
    "plt.xlim(...);"
   ]
  },
  {
   "cell_type": "markdown",
   "metadata": {},
   "source": [
    "# Discrete Data"
   ]
  },
  {
   "cell_type": "markdown",
   "metadata": {},
   "source": [
    "#### Bar Chart"
   ]
  },
  {
   "cell_type": "code",
   "execution_count": null,
   "metadata": {},
   "outputs": [],
   "source": [
    "plt.figure(figsize=(8,5))\n",
    "ax = sns.countplot(x='IncomeGroup', data=data)\n",
    "ax.set_xticklabels(ax.get_xticklabels(), rotation=40, ha=\"right\");"
   ]
  },
  {
   "cell_type": "code",
   "execution_count": null,
   "metadata": {},
   "outputs": [],
   "source": [
    "plt.figure(figsize=(8,5))\n",
    "sns.barplot(x='SystemOfTrade', y='LatestWaterWithdrawalData', data=d, ci=False)\n",
    "plt.ylim(1990, 2010);"
   ]
  },
  {
   "cell_type": "markdown",
   "metadata": {},
   "source": [
    "#### Dot Chart"
   ]
  },
  {
   "cell_type": "code",
   "execution_count": null,
   "metadata": {},
   "outputs": [],
   "source": [
    "sns.pointplot(x='SystemOfTrade', y='LatestIndustrialData', data=d);"
   ]
  },
  {
   "cell_type": "markdown",
   "metadata": {},
   "source": [
    "### Exercise 2: Discrete Plot"
   ]
  },
  {
   "cell_type": "markdown",
   "metadata": {},
   "source": [
    "Plot a barplot comparing `LatestIndustrialData` and `IncomeGroup`, segmented by `SystemOfTrade`, between 1990 and 2015. Your final plot should look like this:\n",
    "\n",
    "<img src=\"plot2.png\" />"
   ]
  },
  {
   "cell_type": "code",
   "execution_count": null,
   "metadata": {},
   "outputs": [],
   "source": [
    "sns.barplot(x=..., y=..., hue=..., data=d, ci=False);\n",
    "plt.legend(loc=...)\n",
    "plt.xlim(..., ...);"
   ]
  },
  {
   "cell_type": "markdown",
   "metadata": {},
   "source": [
    "# Linear Regression"
   ]
  },
  {
   "cell_type": "markdown",
   "metadata": {},
   "source": [
    "Run this cell to install `scikit-learn` if you don't have that on your machine."
   ]
  },
  {
   "cell_type": "code",
   "execution_count": null,
   "metadata": {},
   "outputs": [],
   "source": [
    "!pip install scikit-learn"
   ]
  },
  {
   "cell_type": "markdown",
   "metadata": {},
   "source": [
    "We will be exploring with a related dataset (the actual important one) for the World Development Indicator. Each of the 3 main variables have a subset of its own to separate male and female statistics. Make sure you are choosing the right variable so that your model makes sense!"
   ]
  },
  {
   "cell_type": "code",
   "execution_count": null,
   "metadata": {
    "scrolled": true
   },
   "outputs": [],
   "source": [
    "# Importing dataset while doing some additional cleaning.\n",
    "ind = pd.read_csv('ind.csv').dropna().reset_index(drop=True)\n",
    "ind.head()"
   ]
  },
  {
   "cell_type": "markdown",
   "metadata": {},
   "source": [
    "Explore relationship among life expectancy, access to electricity, and adult literacy. We are only looking at a very small portion of the data of the World Development Indicators from 2000. \n",
    "\n",
    "Our demo will be looking at the relationship between access to electricity and life expectancy. We will be using a module callel `linear_model` in the `scikit-learn` package."
   ]
  },
  {
   "cell_type": "code",
   "execution_count": null,
   "metadata": {},
   "outputs": [],
   "source": [
    "from sklearn.linear_model import LinearRegression\n",
    "\n",
    "# We need a DataFrame instead of a Series for x and y.\n",
    "x = ind[['elec']]  \n",
    "y = ind[['exp']]\n",
    "\n",
    "exp_v_elec = LinearRegression()\n",
    "exp_v_elec.fit(x, y)"
   ]
  },
  {
   "cell_type": "markdown",
   "metadata": {},
   "source": [
    "We can look at the coefficient (slope) and intercept of the linear model to interpret our model. Remember our simple linear regression formula:\n",
    "\n",
    "$$ y = a + bx + \\epsilon $$"
   ]
  },
  {
   "cell_type": "code",
   "execution_count": null,
   "metadata": {},
   "outputs": [],
   "source": [
    "print(\"intercept:    \", exp_v_elec.intercept_[0])\n",
    "print(\"coefficient:  \", exp_v_elec.coef_[0][0])"
   ]
  },
  {
   "cell_type": "markdown",
   "metadata": {},
   "source": [
    "***Question to Ponder:*** What does the model tell you?"
   ]
  },
  {
   "cell_type": "markdown",
   "metadata": {},
   "source": [
    "We can also standardize units in our linear model `exp_v_elec` to see our correlation coefficient `r`. Recall that standardizing unit can be done by this formula:\n",
    "\n",
    "$$ z = \\frac{x-\\mu}{\\sigma}, $$\n",
    "\n",
    "where $z$ is the standardized unit, $\\mu$ the mean, and $\\sigma$ the standard deviation. Instead of doing this by hand, we will be using `StandardScaler` in the `preprocessing` module of the `scikit-learn` package."
   ]
  },
  {
   "cell_type": "code",
   "execution_count": null,
   "metadata": {},
   "outputs": [],
   "source": [
    "from sklearn.preprocessing import StandardScaler\n",
    "\n",
    "scalerX = StandardScaler()\n",
    "scalerX.fit(x)\n",
    "x_std = scalerX.transform(x)\n",
    "\n",
    "scalerY = StandardScaler()\n",
    "scalerY.fit(y)\n",
    "y_std = scalerY.transform(y)"
   ]
  },
  {
   "cell_type": "code",
   "execution_count": null,
   "metadata": {},
   "outputs": [],
   "source": [
    "exp_v_elec_std = LinearRegression()\n",
    "exp_v_elec_std.fit(x_std, y_std)\n",
    "print(\"correlation coefficient (r):  \", exp_v_elec_std.coef_[0][0])"
   ]
  },
  {
   "cell_type": "markdown",
   "metadata": {},
   "source": [
    "The convention to understand the strength of correlation is that for $|r| > 0.7$, the correlation is strong, and for $|r| < 0.3$, the correlation is weak. Anything in between is moderate.\n",
    "\n",
    "To see what a strong correlation is visually, we can plot a scatter plot with a regression line for `elec` and `exp`, using `lmplot` in seaborn."
   ]
  },
  {
   "cell_type": "code",
   "execution_count": null,
   "metadata": {},
   "outputs": [],
   "source": [
    "sns.lmplot('elec', 'exp', data=ind)\n",
    "plt.title('Life Expectancy vs. Access to Electricity')\n",
    "plt.xlabel('Access to Electricity (% population)')\n",
    "plt.ylabel('Life Expectancy at Birth (years)');"
   ]
  },
  {
   "cell_type": "markdown",
   "metadata": {},
   "source": [
    "***Question to Ponder:*** Are you convinced that the correlation between these 2 variables is this strong? Is there something from the dataset that may be misleading?"
   ]
  },
  {
   "cell_type": "markdown",
   "metadata": {},
   "source": [
    "### Linear Model Exercise"
   ]
  },
  {
   "cell_type": "markdown",
   "metadata": {},
   "source": [
    "Choose 2 variables from the indicator (`ind`) dataset of your choice, and build a linear model. Report the coefficient (slope), intercept, and the correlation coefficient (standardized slope) for your linear model. At the end, generate a plot that shows the regression line for your model. \n",
    "\n",
    "Use the code above to help you get started. "
   ]
  },
  {
   "cell_type": "code",
   "execution_count": null,
   "metadata": {},
   "outputs": [],
   "source": []
  },
  {
   "cell_type": "code",
   "execution_count": null,
   "metadata": {},
   "outputs": [],
   "source": []
  },
  {
   "cell_type": "code",
   "execution_count": null,
   "metadata": {},
   "outputs": [],
   "source": []
  },
  {
   "cell_type": "code",
   "execution_count": null,
   "metadata": {},
   "outputs": [],
   "source": []
  }
 ],
 "metadata": {
  "kernelspec": {
   "display_name": "Python 3",
   "language": "python",
   "name": "python3"
  },
  "language_info": {
   "codemirror_mode": {
    "name": "ipython",
    "version": 3
   },
   "file_extension": ".py",
   "mimetype": "text/x-python",
   "name": "python",
   "nbconvert_exporter": "python",
   "pygments_lexer": "ipython3",
   "version": "3.7.2"
  }
 },
 "nbformat": 4,
 "nbformat_minor": 2
}
